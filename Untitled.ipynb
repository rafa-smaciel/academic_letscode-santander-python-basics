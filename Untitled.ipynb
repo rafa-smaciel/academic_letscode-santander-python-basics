{
 "cells": [
  {
   "cell_type": "code",
   "execution_count": 1,
   "id": "c598ac71",
   "metadata": {},
   "outputs": [
    {
     "name": "stdout",
     "output_type": "stream",
     "text": [
      "Valor original: R$ 10\n"
     ]
    }
   ],
   "source": [
    "valor_original = float( input(\"Valor original: R$ \"))"
   ]
  },
  {
   "cell_type": "code",
   "execution_count": 2,
   "id": "2934bebb",
   "metadata": {},
   "outputs": [],
   "source": [
    "valor_descontado = valor_original * 0.2"
   ]
  },
  {
   "cell_type": "code",
   "execution_count": 3,
   "id": "c6aa0553",
   "metadata": {},
   "outputs": [],
   "source": [
    "novo_valor = valor_original * 0.80"
   ]
  },
  {
   "cell_type": "code",
   "execution_count": 4,
   "id": "694b9945",
   "metadata": {},
   "outputs": [
    {
     "name": "stdout",
     "output_type": "stream",
     "text": [
      "Valor original:     R$ 10.0\n",
      "Desconto ganho:     R$ 2.0\n",
      "Valor com desconto: R$ 8.0\n"
     ]
    }
   ],
   "source": [
    "print('Valor original:     R$', valor_original)\n",
    "print('Desconto ganho:     R$', valor_descontado)\n",
    "print('Valor com desconto: R$', novo_valor)"
   ]
  },
  {
   "cell_type": "code",
   "execution_count": null,
   "id": "fd76e278",
   "metadata": {},
   "outputs": [],
   "source": []
  }
 ],
 "metadata": {
  "kernelspec": {
   "display_name": "Python 3 (ipykernel)",
   "language": "python",
   "name": "python3"
  },
  "language_info": {
   "codemirror_mode": {
    "name": "ipython",
    "version": 3
   },
   "file_extension": ".py",
   "mimetype": "text/x-python",
   "name": "python",
   "nbconvert_exporter": "python",
   "pygments_lexer": "ipython3",
   "version": "3.9.13"
  }
 },
 "nbformat": 4,
 "nbformat_minor": 5
}
