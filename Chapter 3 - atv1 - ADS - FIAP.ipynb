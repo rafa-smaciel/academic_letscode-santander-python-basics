{
 "cells": [
  {
   "cell_type": "code",
   "execution_count": null,
   "id": "1874e182",
   "metadata": {},
   "outputs": [],
   "source": [
    "tipo_assinatura = input('Tipo da assinatura ')"
   ]
  },
  {
   "cell_type": "code",
   "execution_count": null,
   "id": "39ee6918",
   "metadata": {},
   "outputs": [],
   "source": [
    "faturamento_calculado = float( input('Faturamento anual: R$ '))"
   ]
  },
  {
   "cell_type": "code",
   "execution_count": null,
   "id": "25b791d2",
   "metadata": {},
   "outputs": [],
   "source": [
    "if tipo_assinatura == 'basic':\n",
    "    porcentagem_calculada = faturamento_calculado * 0.3\n",
    "elif tipo_assinatura == 'silver':\n",
    "    porcentagem_calculada = faturamento_calculado * 0.2\n",
    "elif tipo_assinatura == 'gold':\n",
    "    porcentagem_calculada = faturamento_calculado * 0.1\n",
    "elif tipo_assinatura =='platinum':\n",
    "    porcentagem_calculada = faturamento_calculado * 0.05\n",
    "else:('Digite um nível válido')"
   ]
  },
  {
   "cell_type": "code",
   "execution_count": null,
   "id": "af776e7e",
   "metadata": {},
   "outputs": [],
   "source": [
    "print('Valor do bônus que o cliente deve pagar: R$ ', porcentagem_calculada)"
   ]
  }
 ],
 "metadata": {
  "kernelspec": {
   "display_name": "Python 3 (ipykernel)",
   "language": "python",
   "name": "python3"
  },
  "language_info": {
   "codemirror_mode": {
    "name": "ipython",
    "version": 3
   },
   "file_extension": ".py",
   "mimetype": "text/x-python",
   "name": "python",
   "nbconvert_exporter": "python",
   "pygments_lexer": "ipython3",
   "version": "3.9.13"
  }
 },
 "nbformat": 4,
 "nbformat_minor": 5
}
