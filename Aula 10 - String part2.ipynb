{
 "cells": [
  {
   "cell_type": "code",
   "execution_count": 1,
   "id": "6f19d9e9",
   "metadata": {},
   "outputs": [
    {
     "name": "stdout",
     "output_type": "stream",
     "text": [
      "Olá, Rafael\n"
     ]
    }
   ],
   "source": [
    "cumprimento = 'Olá, '\n",
    "nome = 'Rafael'\n",
    "print(cumprimento + nome)"
   ]
  },
  {
   "cell_type": "code",
   "execution_count": 2,
   "id": "bf166981",
   "metadata": {},
   "outputs": [
    {
     "name": "stdout",
     "output_type": "stream",
     "text": [
      "RafaelRafaelRafaelRafaelRafael\n"
     ]
    }
   ],
   "source": [
    "print(nome * 5)"
   ]
  },
  {
   "cell_type": "code",
   "execution_count": 3,
   "id": "8d7dfd36",
   "metadata": {},
   "outputs": [
    {
     "name": "stdout",
     "output_type": "stream",
     "text": [
      "Rafael tem 32 anos e 0 filhos\n"
     ]
    }
   ],
   "source": [
    "nome = 'Rafael'\n",
    "idade = 32\n",
    "n_filhos = 0\n",
    "print(nome + ' tem ' + str(idade) + ' anos e ' + str(n_filhos) + ' filhos')"
   ]
  },
  {
   "cell_type": "code",
   "execution_count": 4,
   "id": "91436b06",
   "metadata": {},
   "outputs": [
    {
     "name": "stdout",
     "output_type": "stream",
     "text": [
      "Rafael tem 32 anos e 0 filhos\n"
     ]
    }
   ],
   "source": [
    "print('{} tem {} anos e {} filhos' .format(nome, idade, n_filhos))"
   ]
  },
  {
   "cell_type": "code",
   "execution_count": 7,
   "id": "613f8bf9",
   "metadata": {},
   "outputs": [
    {
     "name": "stdout",
     "output_type": "stream",
     "text": [
      "O preço da gasolina hoje subiu e está em R$ 3.5\n"
     ]
    }
   ],
   "source": [
    "preco_gasolina = 3.476\n",
    "print('O preço da gasolina hoje subiu e está em R$ {:.1f}' .format(preco_gasolina))"
   ]
  },
  {
   "cell_type": "code",
   "execution_count": 8,
   "id": "9ab2fbdf",
   "metadata": {},
   "outputs": [
    {
     "name": "stdout",
     "output_type": "stream",
     "text": [
      "Rafael tem 32 anos e 0 filhos.\n"
     ]
    }
   ],
   "source": [
    "print(f'{nome} tem {idade} anos e {n_filhos} filhos.')"
   ]
  },
  {
   "cell_type": "code",
   "execution_count": null,
   "id": "29225d9d",
   "metadata": {},
   "outputs": [],
   "source": []
  }
 ],
 "metadata": {
  "kernelspec": {
   "display_name": "Python 3 (ipykernel)",
   "language": "python",
   "name": "python3"
  },
  "language_info": {
   "codemirror_mode": {
    "name": "ipython",
    "version": 3
   },
   "file_extension": ".py",
   "mimetype": "text/x-python",
   "name": "python",
   "nbconvert_exporter": "python",
   "pygments_lexer": "ipython3",
   "version": "3.9.13"
  }
 },
 "nbformat": 4,
 "nbformat_minor": 5
}
