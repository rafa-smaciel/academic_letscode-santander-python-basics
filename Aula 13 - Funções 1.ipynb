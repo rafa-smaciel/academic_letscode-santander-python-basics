{
 "cells": [
  {
   "cell_type": "code",
   "execution_count": 1,
   "id": "e9393ff5",
   "metadata": {},
   "outputs": [],
   "source": [
    "def hello():\n",
    "    print('Olá, mundo!')"
   ]
  },
  {
   "cell_type": "code",
   "execution_count": 2,
   "id": "b9288218",
   "metadata": {},
   "outputs": [
    {
     "name": "stdout",
     "output_type": "stream",
     "text": [
      "<function hello at 0x00000211AFC650D0>\n"
     ]
    }
   ],
   "source": [
    "print(hello)"
   ]
  },
  {
   "cell_type": "code",
   "execution_count": 3,
   "id": "44c88616",
   "metadata": {},
   "outputs": [
    {
     "name": "stdout",
     "output_type": "stream",
     "text": [
      "Olá, mundo!\n"
     ]
    }
   ],
   "source": [
    "hello()"
   ]
  },
  {
   "cell_type": "code",
   "execution_count": 4,
   "id": "aeca0550",
   "metadata": {},
   "outputs": [],
   "source": [
    "def calcula_media(valor1, valor2, valor3):\n",
    "    soma = valor1 + valor2 + valor3\n",
    "    media = soma /3\n",
    "    return media"
   ]
  },
  {
   "cell_type": "code",
   "execution_count": 11,
   "id": "c59a7653",
   "metadata": {},
   "outputs": [
    {
     "name": "stdout",
     "output_type": "stream",
     "text": [
      "6.333333333333333\n"
     ]
    }
   ],
   "source": [
    "resultado = calcula_media(6, 4, 9)\n",
    "print(resultado)"
   ]
  },
  {
   "cell_type": "code",
   "execution_count": 18,
   "id": "3c1422e7",
   "metadata": {},
   "outputs": [
    {
     "name": "stdout",
     "output_type": "stream",
     "text": [
      "9.333333333333334\n"
     ]
    }
   ],
   "source": [
    "resultado2 = calcula_media(valor1=9, valor2=10, valor3=9)\n",
    "print(resultado2)"
   ]
  },
  {
   "cell_type": "code",
   "execution_count": 20,
   "id": "91a80c9c",
   "metadata": {},
   "outputs": [
    {
     "name": "stdout",
     "output_type": "stream",
     "text": [
      "Olá , Pietro\n"
     ]
    }
   ],
   "source": [
    "print('Olá', end=' ')\n",
    "print(', Pietro')"
   ]
  },
  {
   "cell_type": "code",
   "execution_count": 21,
   "id": "6f37ac1d",
   "metadata": {},
   "outputs": [],
   "source": [
    "def calcula_media(valor1=0, valor2=0, valor3=0):\n",
    "    soma = valor1 + valor2 + valor3\n",
    "    media = soma /3\n",
    "    return media"
   ]
  },
  {
   "cell_type": "code",
   "execution_count": 22,
   "id": "21ff8baf",
   "metadata": {},
   "outputs": [
    {
     "name": "stdout",
     "output_type": "stream",
     "text": [
      "0.0\n"
     ]
    }
   ],
   "source": [
    "resultado = calcula_media()\n",
    "print(resultado)"
   ]
  }
 ],
 "metadata": {
  "kernelspec": {
   "display_name": "Python 3 (ipykernel)",
   "language": "python",
   "name": "python3"
  },
  "language_info": {
   "codemirror_mode": {
    "name": "ipython",
    "version": 3
   },
   "file_extension": ".py",
   "mimetype": "text/x-python",
   "name": "python",
   "nbconvert_exporter": "python",
   "pygments_lexer": "ipython3",
   "version": "3.9.13"
  }
 },
 "nbformat": 4,
 "nbformat_minor": 5
}
